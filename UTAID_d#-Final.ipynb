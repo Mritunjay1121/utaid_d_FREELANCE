{
 "cells": [
  {
   "cell_type": "markdown",
   "metadata": {
    "id": "0U_NbahClsno"
   },
   "source": [
    "# PA 3: Association Analysis - Apriori/FP Growth"
   ]
  },
  {
   "cell_type": "markdown",
   "metadata": {
    "id": "o0YH1s5WmBy-"
   },
   "source": [
    "## Student Details \n",
    "\n",
    "**Student Name and ID:**\n",
    "\n",
    "**Group members name and ID :-**"
   ]
  },
  {
   "cell_type": "markdown",
   "metadata": {
    "id": "SihqKhAKmO7u"
   },
   "source": [
    "## Submission Instructions\n",
    "\n",
    "Rename this submission file as specified in the instructions document"
   ]
  },
  {
   "cell_type": "markdown",
   "metadata": {},
   "source": [
    "## Tasks"
   ]
  },
  {
   "cell_type": "markdown",
   "metadata": {},
   "source": [
    "1.    Load the dataset (from the csv file)"
   ]
  },
  {
   "cell_type": "code",
   "execution_count": 1,
   "metadata": {},
   "outputs": [],
   "source": [
    "# Write your code here\n",
    "import pandas as pd\n",
    "import numpy as np\n",
    "from mlxtend.preprocessing import TransactionEncoder\n",
    "from mlxtend.frequent_patterns import apriori, association_rules,fpgrowth\n",
    "import matplotlib.pyplot as plt\n",
    "import time\n",
    "import random"
   ]
  },
  {
   "cell_type": "markdown",
   "metadata": {},
   "source": [
    "2.    Pre-process the dataset and provide a detailed explanation (such as Handling of null values, empty strings, unncessary trailing characters such as commas and white spaces)"
   ]
  },
  {
   "cell_type": "code",
   "execution_count": 2,
   "metadata": {},
   "outputs": [
    {
     "data": {
      "text/plain": [
       "items    0\n",
       "dtype: int64"
      ]
     },
     "execution_count": 2,
     "metadata": {},
     "output_type": "execute_result"
    }
   ],
   "source": [
    "# Write your code here\n",
    "df=pd.read_csv('dataset1.csv')\n",
    "df.drop(\"Tid\",axis=1,inplace=True)\n",
    "df.isnull().sum()"
   ]
  },
  {
   "cell_type": "code",
   "execution_count": 3,
   "metadata": {},
   "outputs": [],
   "source": [
    "df['items'] = df['items'].str.split(',').apply(lambda x: [i.strip() for i in x])\n"
   ]
  },
  {
   "cell_type": "markdown",
   "metadata": {},
   "source": [
    "3.    Encode the dataset"
   ]
  },
  {
   "cell_type": "code",
   "execution_count": 4,
   "metadata": {},
   "outputs": [
    {
     "data": {
      "text/html": [
       "<div>\n",
       "<style scoped>\n",
       "    .dataframe tbody tr th:only-of-type {\n",
       "        vertical-align: middle;\n",
       "    }\n",
       "\n",
       "    .dataframe tbody tr th {\n",
       "        vertical-align: top;\n",
       "    }\n",
       "\n",
       "    .dataframe thead th {\n",
       "        text-align: right;\n",
       "    }\n",
       "</style>\n",
       "<table border=\"1\" class=\"dataframe\">\n",
       "  <thead>\n",
       "    <tr style=\"text-align: right;\">\n",
       "      <th></th>\n",
       "      <th></th>\n",
       "      <th>Apple</th>\n",
       "      <th>Bread</th>\n",
       "      <th>Butter</th>\n",
       "      <th>Cheese</th>\n",
       "      <th>Corn</th>\n",
       "      <th>Dill</th>\n",
       "      <th>Eggs</th>\n",
       "      <th>Ice cream</th>\n",
       "      <th>Kidney Beans</th>\n",
       "      <th>Milk</th>\n",
       "      <th>Nutmeg</th>\n",
       "      <th>Onion</th>\n",
       "      <th>Sugar</th>\n",
       "      <th>Unicorn</th>\n",
       "      <th>Yogurt</th>\n",
       "      <th>chocolate</th>\n",
       "    </tr>\n",
       "  </thead>\n",
       "  <tbody>\n",
       "    <tr>\n",
       "      <th>0</th>\n",
       "      <td>True</td>\n",
       "      <td>False</td>\n",
       "      <td>True</td>\n",
       "      <td>False</td>\n",
       "      <td>False</td>\n",
       "      <td>True</td>\n",
       "      <td>True</td>\n",
       "      <td>False</td>\n",
       "      <td>True</td>\n",
       "      <td>False</td>\n",
       "      <td>False</td>\n",
       "      <td>False</td>\n",
       "      <td>False</td>\n",
       "      <td>True</td>\n",
       "      <td>False</td>\n",
       "      <td>True</td>\n",
       "      <td>True</td>\n",
       "    </tr>\n",
       "    <tr>\n",
       "      <th>1</th>\n",
       "      <td>True</td>\n",
       "      <td>False</td>\n",
       "      <td>False</td>\n",
       "      <td>False</td>\n",
       "      <td>False</td>\n",
       "      <td>False</td>\n",
       "      <td>False</td>\n",
       "      <td>False</td>\n",
       "      <td>False</td>\n",
       "      <td>False</td>\n",
       "      <td>True</td>\n",
       "      <td>False</td>\n",
       "      <td>False</td>\n",
       "      <td>False</td>\n",
       "      <td>False</td>\n",
       "      <td>False</td>\n",
       "      <td>False</td>\n",
       "    </tr>\n",
       "    <tr>\n",
       "      <th>2</th>\n",
       "      <td>True</td>\n",
       "      <td>True</td>\n",
       "      <td>False</td>\n",
       "      <td>True</td>\n",
       "      <td>False</td>\n",
       "      <td>False</td>\n",
       "      <td>True</td>\n",
       "      <td>False</td>\n",
       "      <td>True</td>\n",
       "      <td>False</td>\n",
       "      <td>True</td>\n",
       "      <td>False</td>\n",
       "      <td>False</td>\n",
       "      <td>False</td>\n",
       "      <td>False</td>\n",
       "      <td>True</td>\n",
       "      <td>True</td>\n",
       "    </tr>\n",
       "    <tr>\n",
       "      <th>3</th>\n",
       "      <td>True</td>\n",
       "      <td>False</td>\n",
       "      <td>False</td>\n",
       "      <td>True</td>\n",
       "      <td>True</td>\n",
       "      <td>False</td>\n",
       "      <td>True</td>\n",
       "      <td>False</td>\n",
       "      <td>False</td>\n",
       "      <td>False</td>\n",
       "      <td>True</td>\n",
       "      <td>True</td>\n",
       "      <td>True</td>\n",
       "      <td>False</td>\n",
       "      <td>False</td>\n",
       "      <td>False</td>\n",
       "      <td>False</td>\n",
       "    </tr>\n",
       "    <tr>\n",
       "      <th>4</th>\n",
       "      <td>True</td>\n",
       "      <td>True</td>\n",
       "      <td>True</td>\n",
       "      <td>False</td>\n",
       "      <td>False</td>\n",
       "      <td>False</td>\n",
       "      <td>False</td>\n",
       "      <td>False</td>\n",
       "      <td>False</td>\n",
       "      <td>False</td>\n",
       "      <td>False</td>\n",
       "      <td>False</td>\n",
       "      <td>False</td>\n",
       "      <td>False</td>\n",
       "      <td>False</td>\n",
       "      <td>False</td>\n",
       "      <td>False</td>\n",
       "    </tr>\n",
       "    <tr>\n",
       "      <th>...</th>\n",
       "      <td>...</td>\n",
       "      <td>...</td>\n",
       "      <td>...</td>\n",
       "      <td>...</td>\n",
       "      <td>...</td>\n",
       "      <td>...</td>\n",
       "      <td>...</td>\n",
       "      <td>...</td>\n",
       "      <td>...</td>\n",
       "      <td>...</td>\n",
       "      <td>...</td>\n",
       "      <td>...</td>\n",
       "      <td>...</td>\n",
       "      <td>...</td>\n",
       "      <td>...</td>\n",
       "      <td>...</td>\n",
       "      <td>...</td>\n",
       "    </tr>\n",
       "    <tr>\n",
       "      <th>994</th>\n",
       "      <td>True</td>\n",
       "      <td>False</td>\n",
       "      <td>True</td>\n",
       "      <td>False</td>\n",
       "      <td>False</td>\n",
       "      <td>False</td>\n",
       "      <td>False</td>\n",
       "      <td>True</td>\n",
       "      <td>False</td>\n",
       "      <td>False</td>\n",
       "      <td>False</td>\n",
       "      <td>False</td>\n",
       "      <td>False</td>\n",
       "      <td>False</td>\n",
       "      <td>True</td>\n",
       "      <td>False</td>\n",
       "      <td>True</td>\n",
       "    </tr>\n",
       "    <tr>\n",
       "      <th>995</th>\n",
       "      <td>True</td>\n",
       "      <td>True</td>\n",
       "      <td>False</td>\n",
       "      <td>False</td>\n",
       "      <td>False</td>\n",
       "      <td>True</td>\n",
       "      <td>False</td>\n",
       "      <td>False</td>\n",
       "      <td>False</td>\n",
       "      <td>True</td>\n",
       "      <td>True</td>\n",
       "      <td>True</td>\n",
       "      <td>False</td>\n",
       "      <td>False</td>\n",
       "      <td>False</td>\n",
       "      <td>True</td>\n",
       "      <td>False</td>\n",
       "    </tr>\n",
       "    <tr>\n",
       "      <th>996</th>\n",
       "      <td>True</td>\n",
       "      <td>True</td>\n",
       "      <td>False</td>\n",
       "      <td>False</td>\n",
       "      <td>False</td>\n",
       "      <td>True</td>\n",
       "      <td>True</td>\n",
       "      <td>False</td>\n",
       "      <td>False</td>\n",
       "      <td>False</td>\n",
       "      <td>False</td>\n",
       "      <td>False</td>\n",
       "      <td>False</td>\n",
       "      <td>True</td>\n",
       "      <td>False</td>\n",
       "      <td>False</td>\n",
       "      <td>True</td>\n",
       "    </tr>\n",
       "    <tr>\n",
       "      <th>997</th>\n",
       "      <td>True</td>\n",
       "      <td>False</td>\n",
       "      <td>False</td>\n",
       "      <td>True</td>\n",
       "      <td>True</td>\n",
       "      <td>True</td>\n",
       "      <td>False</td>\n",
       "      <td>True</td>\n",
       "      <td>True</td>\n",
       "      <td>True</td>\n",
       "      <td>False</td>\n",
       "      <td>True</td>\n",
       "      <td>False</td>\n",
       "      <td>True</td>\n",
       "      <td>False</td>\n",
       "      <td>True</td>\n",
       "      <td>True</td>\n",
       "    </tr>\n",
       "    <tr>\n",
       "      <th>998</th>\n",
       "      <td>True</td>\n",
       "      <td>False</td>\n",
       "      <td>False</td>\n",
       "      <td>False</td>\n",
       "      <td>False</td>\n",
       "      <td>False</td>\n",
       "      <td>False</td>\n",
       "      <td>False</td>\n",
       "      <td>False</td>\n",
       "      <td>False</td>\n",
       "      <td>True</td>\n",
       "      <td>False</td>\n",
       "      <td>False</td>\n",
       "      <td>False</td>\n",
       "      <td>False</td>\n",
       "      <td>False</td>\n",
       "      <td>True</td>\n",
       "    </tr>\n",
       "  </tbody>\n",
       "</table>\n",
       "<p>999 rows × 17 columns</p>\n",
       "</div>"
      ],
      "text/plain": [
       "           Apple  Bread  Butter  Cheese   Corn   Dill   Eggs  Ice cream  \\\n",
       "0    True  False   True   False   False   True   True  False       True   \n",
       "1    True  False  False   False   False  False  False  False      False   \n",
       "2    True   True  False    True   False  False   True  False       True   \n",
       "3    True  False  False    True    True  False   True  False      False   \n",
       "4    True   True   True   False   False  False  False  False      False   \n",
       "..    ...    ...    ...     ...     ...    ...    ...    ...        ...   \n",
       "994  True  False   True   False   False  False  False   True      False   \n",
       "995  True   True  False   False   False   True  False  False      False   \n",
       "996  True   True  False   False   False   True   True  False      False   \n",
       "997  True  False  False    True    True   True  False   True       True   \n",
       "998  True  False  False   False   False  False  False  False      False   \n",
       "\n",
       "     Kidney Beans   Milk  Nutmeg  Onion  Sugar  Unicorn  Yogurt  chocolate  \n",
       "0           False  False   False  False   True    False    True       True  \n",
       "1           False   True   False  False  False    False   False      False  \n",
       "2           False   True   False  False  False    False    True       True  \n",
       "3           False   True    True   True  False    False   False      False  \n",
       "4           False  False   False  False  False    False   False      False  \n",
       "..            ...    ...     ...    ...    ...      ...     ...        ...  \n",
       "994         False  False   False  False  False     True   False       True  \n",
       "995          True   True    True  False  False    False    True      False  \n",
       "996         False  False   False  False   True    False   False       True  \n",
       "997          True  False    True  False   True    False    True       True  \n",
       "998         False   True   False  False  False    False   False       True  \n",
       "\n",
       "[999 rows x 17 columns]"
      ]
     },
     "execution_count": 4,
     "metadata": {},
     "output_type": "execute_result"
    }
   ],
   "source": [
    "lists=list(df['items'])\n",
    "te = TransactionEncoder()\n",
    "te_ary = te.fit(lists).transform(lists)\n",
    "df_new = pd.DataFrame(te_ary, columns=te.columns_)\n",
    "df_new"
   ]
  },
  {
   "cell_type": "markdown",
   "metadata": {},
   "source": [
    "For each of the combinations in tasks 4 & 5, print the output in the following Sample format: \n",
    "\n",
    "- Support = 0.02\n",
    "- Confidence = 0.1\n",
    "- Total Number of Association Rules: 10\n",
    "- Top 5 rules ordered by Confidence descending:\n",
    "- Number of Maximal Sets: 5\n",
    "- Number of Closed Sets: 5"
   ]
  },
  {
   "cell_type": "code",
   "execution_count": 40,
   "metadata": {},
   "outputs": [
    {
     "name": "stdout",
     "output_type": "stream",
     "text": [
      "[(0.38272731771053525, 0.9405708910611579), (0.6001986450585872, 0.10739113205461537), (0.16687291098988144, 0.5844530696396316)]\n",
      "[(0.38272731771053525, 0.9405708910611579), (0.6001986450585872, 0.10739113205461537), (0.16687291098988144, 0.5844530696396316)]\n"
     ]
    }
   ],
   "source": [
    "# Making hyperparameters\n",
    "min_supports=[]\n",
    "min_confidences=[]\n",
    "hyperparameters_for_fpgrowth=[]\n",
    "hyperparameters_for_apriori=[]\n",
    "for i in range(3):\n",
    "    a=random.uniform(0, 1)\n",
    "    b=random.uniform(0, 1)\n",
    "    \n",
    "    min_supports.append(a)\n",
    "    min_confidences.append(b)\n",
    "for min_support,min_confidence in zip(min_supports,min_confidences):\n",
    "    hyperparameters_for_apriori.append((min_support,min_confidence))\n",
    "    hyperparameters_for_fpgrowth.append((min_support,min_confidence))\n",
    "\n",
    "\n",
    "print(hyperparameters_for_apriori)\n",
    "print(hyperparameters_for_fpgrowth)"
   ]
  },
  {
   "cell_type": "code",
   "execution_count": 41,
   "metadata": {},
   "outputs": [],
   "source": [
    "# For making both same\n",
    "hyperparameters_for_apriori=hyperparameters_for_fpgrowth"
   ]
  },
  {
   "cell_type": "markdown",
   "metadata": {},
   "source": [
    "4.\tExecute Apriori algorithm and generate rules for 3 different combinations of support and confidence"
   ]
  },
  {
   "cell_type": "code",
   "execution_count": 42,
   "metadata": {},
   "outputs": [
    {
     "name": "stdout",
     "output_type": "stream",
     "text": [
      "3 different combinations of min_support and min_confidence is (first:min_spoort,second:min_confidence) [(0.38272731771053525, 0.9405708910611579), (0.6001986450585872, 0.10739113205461537), (0.16687291098988144, 0.5844530696396316)]\n",
      "Number of Association rules in 1 iteration is  16\n",
      "Number of Association rules in 2 iteration is  0\n",
      "Number of Association rules in 3 iteration is  127\n",
      "Number of itemsets are  [33, 1, 255]\n",
      "Top 5 rules are given by top_5_rules where each index has dataframe\n",
      "Maximal Sets  [16, 1, 111]\n",
      "Closed Sets  [16, 1, 111]\n"
     ]
    }
   ],
   "source": [
    "def apriori_solver(df_new,hyperparameter_for_apriori):\n",
    "    apriori_times = []\n",
    "    apriori_num_itemsets = []\n",
    "    my_association_rules=[]\n",
    "    top_5_rules=[]\n",
    "    maximal_sets=[]\n",
    "    closed_sets=[]\n",
    "    i=0\n",
    "    for min_support,min_confidence in hyperparameter_for_apriori:\n",
    "        # Run Apriori algorithm and measure time taken\n",
    "        start_time = time.time()\n",
    "        frequent_itemsets_apriori = frequent_itemsets = apriori(df_new, min_support=min_support, use_colnames=True)\n",
    "        apriori_times.append(time.time() - start_time)\n",
    "        apriori_num_itemsets.append(len(frequent_itemsets_apriori))\n",
    "        \n",
    "        \n",
    "        rules=association_rules(pd.DataFrame(frequent_itemsets), metric='confidence',min_threshold=min_confidence)\n",
    "        \n",
    "        my_association_rules.append(len(pd.DataFrame(rules)))\n",
    "        print(f\"Number of Association rules in {i+1} iteration is \",len(rules))\n",
    "        top5_rules = rules.sort_values(by='confidence', ascending=False).head(5)\n",
    "        top_5_rules.append(top5_rules)\n",
    "        num_maximal_sets = 0\n",
    "        for itemset in frequent_itemsets['itemsets']:\n",
    "            is_maximal = True\n",
    "            for other_itemset in frequent_itemsets['itemsets']:\n",
    "                if itemset.issubset(other_itemset) and itemset != other_itemset:\n",
    "                    is_maximal = False\n",
    "                    break\n",
    "            if is_maximal:\n",
    "                num_maximal_sets += 1\n",
    "        maximal_sets.append(num_maximal_sets)\n",
    "\n",
    "        num_closed_sets = 0\n",
    "        for itemset in frequent_itemsets['itemsets']:\n",
    "            is_closed = True\n",
    "            for other_itemset in frequent_itemsets['itemsets']:\n",
    "                if itemset != other_itemset and itemset.issubset(other_itemset):\n",
    "                    is_closed = False\n",
    "                    break\n",
    "            if is_closed:\n",
    "                num_closed_sets += 1\n",
    "        closed_sets.append(num_closed_sets)\n",
    "        i+=1\n",
    "    return apriori_times,apriori_num_itemsets,my_association_rules,top_5_rules,maximal_sets,closed_sets\n",
    "    \n",
    "print(\"3 different combinations of min_support and min_confidence is (first:min_spoort,second:min_confidence)\",hyperparameters_for_apriori)\n",
    "\n",
    "apriori_times,apriori_num_itemsets,my_association_rules,top_5_rules,maximal_sets,closed_sets= apriori_solver(df_new,hyperparameters_for_apriori)  \n",
    "\n",
    "print(\"Number of itemsets are \",apriori_num_itemsets)\n",
    "print(\"Top 5 rules are given by top_5_rules where each index has dataframe\")\n",
    "print(\"Maximal Sets \",maximal_sets)\n",
    "print(\"Closed Sets \",closed_sets)\n"
   ]
  },
  {
   "cell_type": "code",
   "execution_count": 47,
   "metadata": {},
   "outputs": [
    {
     "data": {
      "text/html": [
       "<div>\n",
       "<style scoped>\n",
       "    .dataframe tbody tr th:only-of-type {\n",
       "        vertical-align: middle;\n",
       "    }\n",
       "\n",
       "    .dataframe tbody tr th {\n",
       "        vertical-align: top;\n",
       "    }\n",
       "\n",
       "    .dataframe thead th {\n",
       "        text-align: right;\n",
       "    }\n",
       "</style>\n",
       "<table border=\"1\" class=\"dataframe\">\n",
       "  <thead>\n",
       "    <tr style=\"text-align: right;\">\n",
       "      <th></th>\n",
       "      <th>antecedents</th>\n",
       "      <th>consequents</th>\n",
       "      <th>antecedent support</th>\n",
       "      <th>consequent support</th>\n",
       "      <th>support</th>\n",
       "      <th>confidence</th>\n",
       "      <th>lift</th>\n",
       "      <th>leverage</th>\n",
       "      <th>conviction</th>\n",
       "    </tr>\n",
       "  </thead>\n",
       "  <tbody>\n",
       "    <tr>\n",
       "      <th>0</th>\n",
       "      <td>(Apple)</td>\n",
       "      <td>()</td>\n",
       "      <td>0.383383</td>\n",
       "      <td>1.0</td>\n",
       "      <td>0.383383</td>\n",
       "      <td>1.0</td>\n",
       "      <td>1.0</td>\n",
       "      <td>0.0</td>\n",
       "      <td>inf</td>\n",
       "    </tr>\n",
       "    <tr>\n",
       "      <th>1</th>\n",
       "      <td>(Bread)</td>\n",
       "      <td>()</td>\n",
       "      <td>0.384384</td>\n",
       "      <td>1.0</td>\n",
       "      <td>0.384384</td>\n",
       "      <td>1.0</td>\n",
       "      <td>1.0</td>\n",
       "      <td>0.0</td>\n",
       "      <td>inf</td>\n",
       "    </tr>\n",
       "    <tr>\n",
       "      <th>2</th>\n",
       "      <td>(Butter)</td>\n",
       "      <td>()</td>\n",
       "      <td>0.420420</td>\n",
       "      <td>1.0</td>\n",
       "      <td>0.420420</td>\n",
       "      <td>1.0</td>\n",
       "      <td>1.0</td>\n",
       "      <td>0.0</td>\n",
       "      <td>inf</td>\n",
       "    </tr>\n",
       "    <tr>\n",
       "      <th>3</th>\n",
       "      <td>(Cheese)</td>\n",
       "      <td>()</td>\n",
       "      <td>0.404404</td>\n",
       "      <td>1.0</td>\n",
       "      <td>0.404404</td>\n",
       "      <td>1.0</td>\n",
       "      <td>1.0</td>\n",
       "      <td>0.0</td>\n",
       "      <td>inf</td>\n",
       "    </tr>\n",
       "    <tr>\n",
       "      <th>4</th>\n",
       "      <td>(Corn)</td>\n",
       "      <td>()</td>\n",
       "      <td>0.407407</td>\n",
       "      <td>1.0</td>\n",
       "      <td>0.407407</td>\n",
       "      <td>1.0</td>\n",
       "      <td>1.0</td>\n",
       "      <td>0.0</td>\n",
       "      <td>inf</td>\n",
       "    </tr>\n",
       "  </tbody>\n",
       "</table>\n",
       "</div>"
      ],
      "text/plain": [
       "  antecedents consequents  antecedent support  consequent support   support  \\\n",
       "0     (Apple)          ()            0.383383                 1.0  0.383383   \n",
       "1     (Bread)          ()            0.384384                 1.0  0.384384   \n",
       "2    (Butter)          ()            0.420420                 1.0  0.420420   \n",
       "3    (Cheese)          ()            0.404404                 1.0  0.404404   \n",
       "4      (Corn)          ()            0.407407                 1.0  0.407407   \n",
       "\n",
       "   confidence  lift  leverage  conviction  \n",
       "0         1.0   1.0       0.0         inf  \n",
       "1         1.0   1.0       0.0         inf  \n",
       "2         1.0   1.0       0.0         inf  \n",
       "3         1.0   1.0       0.0         inf  \n",
       "4         1.0   1.0       0.0         inf  "
      ]
     },
     "execution_count": 47,
     "metadata": {},
     "output_type": "execute_result"
    }
   ],
   "source": [
    "top_5_rules[0]"
   ]
  },
  {
   "cell_type": "markdown",
   "metadata": {},
   "source": [
    "5.    Execute FP Growth algorithm and generate rules for 3 different combinations of support and confidence"
   ]
  },
  {
   "cell_type": "code",
   "execution_count": 48,
   "metadata": {},
   "outputs": [
    {
     "name": "stdout",
     "output_type": "stream",
     "text": [
      "3 different combinations of min_support and min_confidence is (first:min_spoort,second:min_confidence) [(0.38272731771053525, 0.9405708910611579), (0.6001986450585872, 0.10739113205461537), (0.16687291098988144, 0.5844530696396316)]\n",
      "\n",
      "Number of Association rules in 3 iteration is  16\n",
      "\n",
      "Number of Association rules in 3 iteration is  0\n",
      "\n",
      "Number of Association rules in 3 iteration is  127\n",
      "\n",
      "Number of itemsets are  [33, 1, 255]\n",
      "Top 5 rules are given by top_5_rules where each index has dataframe\n",
      "Maximal Sets  [49, 1, 604]\n",
      "Closed Sets  [1, 1, 1]\n"
     ]
    }
   ],
   "source": [
    "def fp_growth_solver(df_new,hyperparameter_for_fpgrowth):\n",
    "    fpgrowth_times = []\n",
    "    fpgrowth_num_itemsets = []\n",
    "    my_association_rules=[]\n",
    "    top_5_rules=[]\n",
    "    maximal_sets=[]\n",
    "    closed_sets=[]\n",
    "\n",
    "    for min_support,min_confidence in hyperparameter_for_fpgrowth:\n",
    "        # Run Apriori algorithm and measure time taken\n",
    "        start_time = time.time()\n",
    "        frequent_itemsets_fp_growth = fpgrowth(df_new, min_support=min_support, use_colnames=True)\n",
    "        fpgrowth_times.append(time.time() - start_time)\n",
    "        fpgrowth_num_itemsets.append(len(frequent_itemsets_fp_growth))\n",
    "\n",
    "\n",
    "        rules = association_rules(frequent_itemsets_fp_growth, metric='confidence')\n",
    "        total_association_rules = len(rules)\n",
    "        print()\n",
    "        my_association_rules.append(total_association_rules)\n",
    "        print(f\"Number of Association rules in {i+1} iteration is \",len(rules))\n",
    "        \n",
    "        top5_rules =rules.sort_values(by='confidence', ascending=False).head(5)\n",
    "        top_5_rules.append(top5_rules)\n",
    "        \n",
    "        \n",
    "        num_maximal_sets = frequent_itemsets_fp_growth['itemsets'].apply(lambda x: len(x)).sum()\n",
    "        maximal_sets.append(num_maximal_sets)\n",
    "\n",
    "        num_closed_sets = frequent_itemsets_fp_growth['support'].apply(lambda x: x == 1.0).sum()\n",
    "        closed_sets.append(num_closed_sets)\n",
    "        \n",
    "    return fpgrowth_times,fpgrowth_num_itemsets,my_association_rules,top_5_rules,maximal_sets,closed_sets\n",
    "    \n",
    "\n",
    "print(\"3 different combinations of min_support and min_confidence is (first:min_spoort,second:min_confidence)\",hyperparameters_for_fpgrowth)\n",
    "\n",
    "fpgrowth_times,fpgrowth_num_itemsets,my_association_rules,top_5_rules,maximal_sets,closed_sets= fp_growth_solver(df_new,hyperparameters_for_fpgrowth)  \n",
    "\n",
    "\n",
    "# print(association_rules)\n",
    "\n",
    "\n",
    "# fpgrowth_times,fpgrowth_num_itemsets,my_association_rules,top_5_rules,maximal_sets,closed_sets= fp_growth_solver(df_new,hyperparameters_for_fpgrowth)  \n",
    "\n",
    "print()\n",
    "    \n",
    "\n",
    "\n",
    "print(\"Number of itemsets are \",fpgrowth_num_itemsets)\n",
    "print(\"Top 5 rules are given by top_5_rules where each index has dataframe\")\n",
    "print(\"Maximal Sets \",maximal_sets)\n",
    "print(\"Closed Sets \",closed_sets)\n"
   ]
  },
  {
   "cell_type": "code",
   "execution_count": 51,
   "metadata": {},
   "outputs": [
    {
     "data": {
      "text/html": [
       "<div>\n",
       "<style scoped>\n",
       "    .dataframe tbody tr th:only-of-type {\n",
       "        vertical-align: middle;\n",
       "    }\n",
       "\n",
       "    .dataframe tbody tr th {\n",
       "        vertical-align: top;\n",
       "    }\n",
       "\n",
       "    .dataframe thead th {\n",
       "        text-align: right;\n",
       "    }\n",
       "</style>\n",
       "<table border=\"1\" class=\"dataframe\">\n",
       "  <thead>\n",
       "    <tr style=\"text-align: right;\">\n",
       "      <th></th>\n",
       "      <th>antecedents</th>\n",
       "      <th>consequents</th>\n",
       "      <th>antecedent support</th>\n",
       "      <th>consequent support</th>\n",
       "      <th>support</th>\n",
       "      <th>confidence</th>\n",
       "      <th>lift</th>\n",
       "      <th>leverage</th>\n",
       "      <th>conviction</th>\n",
       "    </tr>\n",
       "  </thead>\n",
       "  <tbody>\n",
       "    <tr>\n",
       "      <th>0</th>\n",
       "      <td>(chocolate)</td>\n",
       "      <td>()</td>\n",
       "      <td>0.421421</td>\n",
       "      <td>1.0</td>\n",
       "      <td>0.421421</td>\n",
       "      <td>1.0</td>\n",
       "      <td>1.0</td>\n",
       "      <td>0.0</td>\n",
       "      <td>inf</td>\n",
       "    </tr>\n",
       "    <tr>\n",
       "      <th>80</th>\n",
       "      <td>(Onion, Ice cream)</td>\n",
       "      <td>()</td>\n",
       "      <td>0.192192</td>\n",
       "      <td>1.0</td>\n",
       "      <td>0.192192</td>\n",
       "      <td>1.0</td>\n",
       "      <td>1.0</td>\n",
       "      <td>0.0</td>\n",
       "      <td>inf</td>\n",
       "    </tr>\n",
       "    <tr>\n",
       "      <th>93</th>\n",
       "      <td>(chocolate, Nutmeg)</td>\n",
       "      <td>()</td>\n",
       "      <td>0.186186</td>\n",
       "      <td>1.0</td>\n",
       "      <td>0.186186</td>\n",
       "      <td>1.0</td>\n",
       "      <td>1.0</td>\n",
       "      <td>0.0</td>\n",
       "      <td>inf</td>\n",
       "    </tr>\n",
       "    <tr>\n",
       "      <th>92</th>\n",
       "      <td>(Ice cream, Nutmeg)</td>\n",
       "      <td>()</td>\n",
       "      <td>0.187187</td>\n",
       "      <td>1.0</td>\n",
       "      <td>0.187187</td>\n",
       "      <td>1.0</td>\n",
       "      <td>1.0</td>\n",
       "      <td>0.0</td>\n",
       "      <td>inf</td>\n",
       "    </tr>\n",
       "    <tr>\n",
       "      <th>91</th>\n",
       "      <td>(Yogurt, Nutmeg)</td>\n",
       "      <td>()</td>\n",
       "      <td>0.192192</td>\n",
       "      <td>1.0</td>\n",
       "      <td>0.192192</td>\n",
       "      <td>1.0</td>\n",
       "      <td>1.0</td>\n",
       "      <td>0.0</td>\n",
       "      <td>inf</td>\n",
       "    </tr>\n",
       "  </tbody>\n",
       "</table>\n",
       "</div>"
      ],
      "text/plain": [
       "            antecedents consequents  antecedent support  consequent support  \\\n",
       "0           (chocolate)          ()            0.421421                 1.0   \n",
       "80   (Onion, Ice cream)          ()            0.192192                 1.0   \n",
       "93  (chocolate, Nutmeg)          ()            0.186186                 1.0   \n",
       "92  (Ice cream, Nutmeg)          ()            0.187187                 1.0   \n",
       "91     (Yogurt, Nutmeg)          ()            0.192192                 1.0   \n",
       "\n",
       "     support  confidence  lift  leverage  conviction  \n",
       "0   0.421421         1.0   1.0       0.0         inf  \n",
       "80  0.192192         1.0   1.0       0.0         inf  \n",
       "93  0.186186         1.0   1.0       0.0         inf  \n",
       "92  0.187187         1.0   1.0       0.0         inf  \n",
       "91  0.192192         1.0   1.0       0.0         inf  "
      ]
     },
     "execution_count": 51,
     "metadata": {},
     "output_type": "execute_result"
    }
   ],
   "source": [
    "top_5_rules[2]"
   ]
  },
  {
   "cell_type": "markdown",
   "metadata": {},
   "source": [
    "6.\tPlot the following graphs comparing both the algorithms:\n",
    "    - time vs minimum support\n",
    "    - time vs number of itemsets"
   ]
  },
  {
   "cell_type": "code",
   "execution_count": 16,
   "metadata": {},
   "outputs": [
    {
     "data": {
      "image/png": "[encoded data removed]",
      "text/plain": [
       "<Figure size 432x288 with 1 Axes>"
      ]
     },
     "metadata": {
      "needs_background": "light"
     },
     "output_type": "display_data"
    },
    {
     "name": "stdout",
     "output_type": "stream",
     "text": [
      "------------------------------------------------------------------------------------------------------------------------\n"
     ]
    },
    {
     "data": {
      "image/png": "[encoded data removed]",
      "text/plain": [
       "<Figure size 432x288 with 1 Axes>"
      ]
     },
     "metadata": {
      "needs_background": "light"
     },
     "output_type": "display_data"
    }
   ],
   "source": [
    "# For Apriori\n",
    "min_supports=[a for a,b in hyperparameters_for_apriori]   \n",
    "plt.plot(min_supports, apriori_times, label='Apriori')\n",
    "plt.xlabel('Minimum Support')\n",
    "plt.ylabel('Time (s)')\n",
    "plt.title('Time vs. Minimum Support')\n",
    "plt.legend()\n",
    "plt.show()\n",
    "\n",
    "\n",
    "print(\"------------------------------------------------------------------------------------------------------------------------\")\n",
    "\n",
    "plt.plot(apriori_num_itemsets,apriori_times, label='Apriori')\n",
    "plt.xlabel('Number of Itemsets')\n",
    "plt.ylabel('Time (s)')\n",
    "plt.title('Time vs. Number of Itemsets')\n",
    "plt.legend()\n",
    "plt.show()\n"
   ]
  },
  {
   "cell_type": "code",
   "execution_count": 53,
   "metadata": {},
   "outputs": [
    {
     "data": {
      "image/png": "[encoded data removed]",
      "text/plain": [
       "<Figure size 432x288 with 1 Axes>"
      ]
     },
     "metadata": {
      "needs_background": "light"
     },
     "output_type": "display_data"
    },
    {
     "name": "stdout",
     "output_type": "stream",
     "text": [
      "------------------------------------------------------------------------------------------------------------------------\n"
     ]
    },
    {
     "data": {
      "image/png": "[encoded data removed]",
      "text/plain": [
       "<Figure size 432x288 with 1 Axes>"
      ]
     },
     "metadata": {
      "needs_background": "light"
     },
     "output_type": "display_data"
    }
   ],
   "source": [
    "# For FP-Growth\n",
    "\n",
    "min_supports=[a for a,b in hyperparameters_for_fpgrowth]   \n",
    "# Plot time vs. minimum support\n",
    "plt.plot(min_supports, fpgrowth_times, label='FPGrowth')\n",
    "plt.xlabel('Minimum Support')\n",
    "plt.ylabel('Time (s)')\n",
    "plt.title('Time vs. Minimum Support')\n",
    "plt.legend()\n",
    "plt.show()\n",
    "\n",
    "print(\"------------------------------------------------------------------------------------------------------------------------\")\n",
    "\n",
    "plt.plot(fpgrowth_num_itemsets,fpgrowth_times, label='FPGrowth')\n",
    "plt.xlabel('Number of Itemsets')\n",
    "plt.ylabel('Time (s)')\n",
    "plt.title('Time vs. Number of Itemsets')\n",
    "plt.legend()\n",
    "plt.show()\n"
   ]
  },
  {
   "cell_type": "markdown",
   "metadata": {},
   "source": [
    "7.    Explain the insights that you got from the graphs. Which algorithm worked better and what do you believe is the reason?"
   ]
  },
  {
   "cell_type": "markdown",
   "metadata": {},
   "source": [
    "Apriori Algorithm: The Apriori algorithm is a classic algorithm for mining frequent itemsets. It works by generating candidate itemsets of increasing length, and then pruning those that do not meet a minimum support threshold. The algorithm requires multiple passes over the dataset and may suffer from performance issues with large datasets due to its expensive candidate generation step. However, it has the advantage of being easy to understand and implement.\n",
    "\n",
    "FP-Growth Algorithm: The FP-Growth algorithm is a more recent and efficient algorithm for mining frequent itemsets. It uses a tree-based data structure called the FP-Tree to represent the dataset, which allows for efficient generation of frequent itemsets without the need for candidate generation and pruning. This makes it faster than Apriori, especially for large datasets, as it requires only two passes over the dataset. However, the FP-Growth algorithm may have a higher memory overhead due to the need to construct the FP-Tree.\n",
    "\n",
    "In our case FP-Growth has given good performance since the number of maximal sets are high.\n",
    "\n",
    "One more important factor is top 5 rules since in FP-Growth the antecedents have high lengths."
   ]
  },
  {
   "cell_type": "markdown",
   "metadata": {
    "id": "USb_soVC0XDc"
   },
   "source": [
    "# Rubric\n",
    "* [02 points] - Student Details and complying with submission instructions \n",
    "* [03 points] - Task 1 \n",
    "* [10 points] - Task 2\n",
    "* [05 points] - Task 3\n",
    "* [25 points] - Task 4\n",
    "* [25 points] - Task 5\n",
    "* [20 points] - task 6\n",
    "* [10 points] - task 7"
   ]
  }
 ],
 "metadata": {
  "colab": {
   "provenance": []
  },
  "kernelspec": {
   "display_name": "Python 3 (ipykernel)",
   "language": "python",
   "name": "python3"
  },
  "language_info": {
   "codemirror_mode": {
    "name": "ipython",
    "version": 3
   },
   "file_extension": ".py",
   "mimetype": "text/x-python",
   "name": "python",
   "nbconvert_exporter": "python",
   "pygments_lexer": "ipython3",
   "version": "3.11.5"
  }
 },
 "nbformat": 4,
 "nbformat_minor": 1
}
